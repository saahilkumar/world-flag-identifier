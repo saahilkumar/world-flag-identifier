{
 "cells": [
  {
   "cell_type": "code",
   "execution_count": 19,
   "metadata": {},
   "outputs": [],
   "source": [
    "from bs4 import BeautifulSoup\n",
    "import pandas as pd\n",
    "from PIL import Image\n",
    "import requests\n",
    "from io import BytesIO\n",
    "import numpy as np\n",
    "from skimage import measure\n",
    "import pickle\n",
    "import imagehash\n",
    "from string import ascii_lowercase"
   ]
  },
  {
   "cell_type": "code",
   "execution_count": 20,
   "metadata": {},
   "outputs": [],
   "source": [
    "color_dict = {}"
   ]
  },
  {
   "cell_type": "code",
   "execution_count": 21,
   "metadata": {},
   "outputs": [],
   "source": [
    "flag_df = pd.read_csv(\"flag_df.csv\", index_col = \"country\")"
   ]
  },
  {
   "cell_type": "code",
   "execution_count": 12,
   "metadata": {},
   "outputs": [
    {
     "data": {
      "text/html": [
       "<div>\n",
       "<style scoped>\n",
       "    .dataframe tbody tr th:only-of-type {\n",
       "        vertical-align: middle;\n",
       "    }\n",
       "\n",
       "    .dataframe tbody tr th {\n",
       "        vertical-align: top;\n",
       "    }\n",
       "\n",
       "    .dataframe thead th {\n",
       "        text-align: right;\n",
       "    }\n",
       "</style>\n",
       "<table border=\"1\" class=\"dataframe\">\n",
       "  <thead>\n",
       "    <tr style=\"text-align: right;\">\n",
       "      <th></th>\n",
       "      <th>flag</th>\n",
       "    </tr>\n",
       "    <tr>\n",
       "      <th>country</th>\n",
       "      <th></th>\n",
       "    </tr>\n",
       "  </thead>\n",
       "  <tbody>\n",
       "    <tr>\n",
       "      <td>Afghanistan</td>\n",
       "      <td>flags/Afghanistan.pkl</td>\n",
       "    </tr>\n",
       "    <tr>\n",
       "      <td>Albania</td>\n",
       "      <td>flags/Albania.pkl</td>\n",
       "    </tr>\n",
       "    <tr>\n",
       "      <td>Algeria</td>\n",
       "      <td>flags/Algeria.pkl</td>\n",
       "    </tr>\n",
       "    <tr>\n",
       "      <td>Andorra</td>\n",
       "      <td>flags/Andorra.pkl</td>\n",
       "    </tr>\n",
       "    <tr>\n",
       "      <td>Angola</td>\n",
       "      <td>flags/Angola.pkl</td>\n",
       "    </tr>\n",
       "  </tbody>\n",
       "</table>\n",
       "</div>"
      ],
      "text/plain": [
       "                              flag\n",
       "country                           \n",
       "Afghanistan  flags/Afghanistan.pkl\n",
       "Albania          flags/Albania.pkl\n",
       "Algeria          flags/Algeria.pkl\n",
       "Andorra          flags/Andorra.pkl\n",
       "Angola            flags/Angola.pkl"
      ]
     },
     "execution_count": 12,
     "metadata": {},
     "output_type": "execute_result"
    }
   ],
   "source": [
    "flag_df.head()"
   ]
  },
  {
   "cell_type": "code",
   "execution_count": 34,
   "metadata": {},
   "outputs": [],
   "source": [
    "def makeArray(npy_file):\n",
    "    with open(npy_file,'rb') as f:\n",
    "        arr = pickle.load(f)\n",
    "        return arr"
   ]
  },
  {
   "cell_type": "code",
   "execution_count": 35,
   "metadata": {},
   "outputs": [],
   "source": [
    "flag_df['flag'] = flag_df['flag'].apply(makeArray)"
   ]
  },
  {
   "cell_type": "code",
   "execution_count": 36,
   "metadata": {},
   "outputs": [
    {
     "data": {
      "text/html": [
       "<div>\n",
       "<style scoped>\n",
       "    .dataframe tbody tr th:only-of-type {\n",
       "        vertical-align: middle;\n",
       "    }\n",
       "\n",
       "    .dataframe tbody tr th {\n",
       "        vertical-align: top;\n",
       "    }\n",
       "\n",
       "    .dataframe thead th {\n",
       "        text-align: right;\n",
       "    }\n",
       "</style>\n",
       "<table border=\"1\" class=\"dataframe\">\n",
       "  <thead>\n",
       "    <tr style=\"text-align: right;\">\n",
       "      <th></th>\n",
       "      <th>flag</th>\n",
       "    </tr>\n",
       "    <tr>\n",
       "      <th>country</th>\n",
       "      <th></th>\n",
       "    </tr>\n",
       "  </thead>\n",
       "  <tbody>\n",
       "    <tr>\n",
       "      <td>Afghanistan</td>\n",
       "      <td>[[[0, 0, 0], [0, 0, 0], [0, 0, 0], [0, 0, 0], ...</td>\n",
       "    </tr>\n",
       "    <tr>\n",
       "      <td>Albania</td>\n",
       "      <td>[[[255, 0, 0], [255, 0, 0], [255, 0, 0], [255,...</td>\n",
       "    </tr>\n",
       "    <tr>\n",
       "      <td>Algeria</td>\n",
       "      <td>[[[0, 102, 51], [0, 102, 51], [0, 102, 51], [0...</td>\n",
       "    </tr>\n",
       "    <tr>\n",
       "      <td>Andorra</td>\n",
       "      <td>[[[0, 0, 153], [0, 0, 153], [0, 0, 153], [0, 0...</td>\n",
       "    </tr>\n",
       "    <tr>\n",
       "      <td>Angola</td>\n",
       "      <td>[[[204, 0, 51], [204, 0, 51], [204, 0, 51], [2...</td>\n",
       "    </tr>\n",
       "  </tbody>\n",
       "</table>\n",
       "</div>"
      ],
      "text/plain": [
       "                                                          flag\n",
       "country                                                       \n",
       "Afghanistan  [[[0, 0, 0], [0, 0, 0], [0, 0, 0], [0, 0, 0], ...\n",
       "Albania      [[[255, 0, 0], [255, 0, 0], [255, 0, 0], [255,...\n",
       "Algeria      [[[0, 102, 51], [0, 102, 51], [0, 102, 51], [0...\n",
       "Andorra      [[[0, 0, 153], [0, 0, 153], [0, 0, 153], [0, 0...\n",
       "Angola       [[[204, 0, 51], [204, 0, 51], [204, 0, 51], [2..."
      ]
     },
     "execution_count": 36,
     "metadata": {},
     "output_type": "execute_result"
    }
   ],
   "source": [
    "flag_df.head()"
   ]
  },
  {
   "cell_type": "code",
   "execution_count": 16,
   "metadata": {},
   "outputs": [
    {
     "data": {
      "text/plain": [
       "195"
      ]
     },
     "execution_count": 16,
     "metadata": {},
     "output_type": "execute_result"
    }
   ],
   "source": [
    "len(flag_df)"
   ]
  },
  {
   "cell_type": "code",
   "execution_count": 22,
   "metadata": {},
   "outputs": [],
   "source": [
    "def get_web_safe_colors():\n",
    "    lst = []\n",
    "    for i in range(0, 256, 51):\n",
    "        for j in range(0, 256, 51):\n",
    "            for k in range(0, 256, 51):\n",
    "                tup = (i, j, k)\n",
    "                lst.append(tup)\n",
    "                \n",
    "    return lst"
   ]
  },
  {
   "cell_type": "code",
   "execution_count": 23,
   "metadata": {},
   "outputs": [],
   "source": [
    "def find_nearest_color(color, color_dict):\n",
    "    if color in color_dict:\n",
    "        return color_dict[color]\n",
    "    \n",
    "    web_safe = get_web_safe_colors()\n",
    "    \n",
    "    min_dist = 1000\n",
    "    nearest_color = (0, 0, 0)\n",
    "    for cur_col in web_safe:\n",
    "        dist = sum(tuple(map(lambda i, j: abs(i - j), color, cur_col)))\n",
    "        if dist < min_dist:\n",
    "            min_dist = dist\n",
    "            nearest_color = cur_col\n",
    "            \n",
    "    color_dict[color] = nearest_color\n",
    "    return nearest_color"
   ]
  },
  {
   "cell_type": "code",
   "execution_count": 24,
   "metadata": {},
   "outputs": [],
   "source": [
    "def fix_image_color(img):\n",
    "    # Get the size of the image\n",
    "    width, height = img.size\n",
    "\n",
    "    # Process every pixel\n",
    "    for x in range(width):\n",
    "        for y in range(height):\n",
    "            current_color = img.getpixel( (x,y) )\n",
    "            new_color = find_nearest_color(current_color, color_dict)\n",
    "            img.putpixel( (x,y), new_color)"
   ]
  },
  {
   "cell_type": "code",
   "execution_count": 25,
   "metadata": {},
   "outputs": [],
   "source": [
    "def process_img(url):\n",
    "    # getting the image from the url\n",
    "    response = requests.get(url)\n",
    "    image_bytes = BytesIO(response.content)\n",
    "    img = Image.open(image_bytes)\n",
    "    \n",
    "    # converting it to RGB\n",
    "    img = img.convert(\"RGB\")\n",
    "    \n",
    "    # resizing to 180 x 90\n",
    "    img = img.resize((180, 90))\n",
    "    \n",
    "    # standardizing the colors to 'web safe' colors\n",
    "    fix_image_color(img)\n",
    "    \n",
    "    # converting an array of pixels\n",
    "    img = np.array(img)\n",
    "    return img"
   ]
  },
  {
   "cell_type": "code",
   "execution_count": 26,
   "metadata": {},
   "outputs": [],
   "source": [
    "def mse(imageA, imageB):\n",
    "    err = np.sum((imageA.astype(\"float\") - imageB.astype(\"float\")) ** 2)\n",
    "    err /= float(imageA.shape[0] * imageA.shape[1])\n",
    "\n",
    "    return err"
   ]
  },
  {
   "cell_type": "code",
   "execution_count": 27,
   "metadata": {},
   "outputs": [],
   "source": [
    "def closest_flag(country):\n",
    "    flag = flag_df[\"flag\"].loc[country]\n",
    "    max_ssim = -1\n",
    "    closest_country = 0\n",
    "    for c in flag_df.index:\n",
    "        cur_flag = flag_df[\"flag\"].loc[c]\n",
    "        dist = measure.compare_ssim(flag, cur_flag, multichannel = True)\n",
    "        if dist > max_ssim and dist != 1:\n",
    "            max_ssim = dist\n",
    "            closest_country = c\n",
    "            \n",
    "    print(max_ssim)\n",
    "    print(closest_country)"
   ]
  },
  {
   "cell_type": "code",
   "execution_count": 28,
   "metadata": {},
   "outputs": [],
   "source": [
    "def visualize_flag(flag_pixels):\n",
    "    Image.fromarray(flag_pixels, \"RGB\").show()"
   ]
  },
  {
   "cell_type": "code",
   "execution_count": 29,
   "metadata": {},
   "outputs": [],
   "source": [
    "def identify_flag_ssim(url):\n",
    "    flag = process_img(url)\n",
    "    \n",
    "    max_ssim = -1\n",
    "    max_index = 0\n",
    "    for c in flag_df.index:\n",
    "        cur_flag = flag_df[\"flag\"].loc[c]\n",
    "        dist = measure.compare_ssim(flag, cur_flag, multichannel = True)\n",
    "        if dist > max_ssim:\n",
    "            max_ssim = dist\n",
    "            max_index = c\n",
    "            \n",
    "#     print(max_ssim)\n",
    "    return max_index"
   ]
  },
  {
   "cell_type": "code",
   "execution_count": 30,
   "metadata": {},
   "outputs": [],
   "source": [
    "def identify_flag_mse(url):\n",
    "    flag = process_img(url)\n",
    "    \n",
    "    min_mse = -1\n",
    "    max_index = 0\n",
    "    for c in flag_df.index:\n",
    "        cur_flag = flag_df[\"flag\"].loc[c]\n",
    "        error = mse(flag, cur_flag)\n",
    "        if error < min_mse or min_mse == -1:\n",
    "            min_mse = error\n",
    "            max_index = c\n",
    "            \n",
    "#     print(min_mse)\n",
    "    return max_index"
   ]
  },
  {
   "cell_type": "code",
   "execution_count": 31,
   "metadata": {},
   "outputs": [],
   "source": [
    "def identify_flag_hash(url):\n",
    "    flag = process_img(url)\n",
    "    \n",
    "    min_hash = -1\n",
    "    max_index = 0\n",
    "    for c in flag_df.index:\n",
    "        cur_flag = flag_df[\"flag\"].loc[c]\n",
    "        firsthash = imagehash.average_hash(Image.fromarray(flag))\n",
    "        otherhash = imagehash.average_hash(Image.fromarray(cur_flag))\n",
    "        hash_dist = firsthash - otherhash\n",
    "        \n",
    "        if hash_dist < min_hash or min_hash == -1:\n",
    "            min_hash = hash_dist\n",
    "            max_index = c\n",
    "            \n",
    "#     print(min_hash)\n",
    "    return max_index"
   ]
  },
  {
   "cell_type": "code",
   "execution_count": 37,
   "metadata": {},
   "outputs": [
    {
     "data": {
      "text/plain": [
       "array([68, 64, 64], dtype=uint8)"
      ]
     },
     "execution_count": 37,
     "metadata": {},
     "output_type": "execute_result"
    }
   ],
   "source": [
    "arr1 = flag_df[\"flag\"].loc[\"Georgia\"]\n",
    "arr2 = flag_df[\"flag\"].loc[\"Denmark\"]\n",
    "sum(sum(arr1 * arr2))**2"
   ]
  },
  {
   "cell_type": "code",
   "execution_count": 38,
   "metadata": {},
   "outputs": [
    {
     "data": {
      "text/plain": [
       "'Albania'"
      ]
     },
     "execution_count": 38,
     "metadata": {},
     "output_type": "execute_result"
    }
   ],
   "source": [
    "url = \"https://www.cia.gov/library/publications/the-world-factbook/attachments/flags/AL-flag.gif\"\n",
    "identify_flag_ssim(url)\n",
    "identify_flag_mse(url)\n",
    "identify_flag_hash(url)"
   ]
  },
  {
   "cell_type": "code",
   "execution_count": 86,
   "metadata": {},
   "outputs": [
    {
     "data": {
      "text/html": [
       "<div>\n",
       "<style scoped>\n",
       "    .dataframe tbody tr th:only-of-type {\n",
       "        vertical-align: middle;\n",
       "    }\n",
       "\n",
       "    .dataframe tbody tr th {\n",
       "        vertical-align: top;\n",
       "    }\n",
       "\n",
       "    .dataframe thead th {\n",
       "        text-align: right;\n",
       "    }\n",
       "</style>\n",
       "<table border=\"1\" class=\"dataframe\">\n",
       "  <thead>\n",
       "    <tr style=\"text-align: right;\">\n",
       "      <th></th>\n",
       "      <th>flag</th>\n",
       "    </tr>\n",
       "    <tr>\n",
       "      <th>country</th>\n",
       "      <th></th>\n",
       "    </tr>\n",
       "  </thead>\n",
       "  <tbody>\n",
       "    <tr>\n",
       "      <td>Afghanistan</td>\n",
       "      <td>[[[0, 0, 0], [0, 0, 0], [0, 0, 0], [0, 0, 0], ...</td>\n",
       "    </tr>\n",
       "    <tr>\n",
       "      <td>Albania</td>\n",
       "      <td>[[[255, 0, 0], [255, 0, 0], [255, 0, 0], [255,...</td>\n",
       "    </tr>\n",
       "    <tr>\n",
       "      <td>Algeria</td>\n",
       "      <td>[[[0, 102, 51], [0, 102, 51], [0, 102, 51], [0...</td>\n",
       "    </tr>\n",
       "    <tr>\n",
       "      <td>Andorra</td>\n",
       "      <td>[[[0, 0, 153], [0, 0, 153], [0, 0, 153], [0, 0...</td>\n",
       "    </tr>\n",
       "    <tr>\n",
       "      <td>Angola</td>\n",
       "      <td>[[[204, 0, 51], [204, 0, 51], [204, 0, 51], [2...</td>\n",
       "    </tr>\n",
       "  </tbody>\n",
       "</table>\n",
       "</div>"
      ],
      "text/plain": [
       "                                                          flag\n",
       "country                                                       \n",
       "Afghanistan  [[[0, 0, 0], [0, 0, 0], [0, 0, 0], [0, 0, 0], ...\n",
       "Albania      [[[255, 0, 0], [255, 0, 0], [255, 0, 0], [255,...\n",
       "Algeria      [[[0, 102, 51], [0, 102, 51], [0, 102, 51], [0...\n",
       "Andorra      [[[0, 0, 153], [0, 0, 153], [0, 0, 153], [0, 0...\n",
       "Angola       [[[204, 0, 51], [204, 0, 51], [204, 0, 51], [2..."
      ]
     },
     "execution_count": 86,
     "metadata": {},
     "output_type": "execute_result"
    }
   ],
   "source": [
    "flag_df.head()"
   ]
  },
  {
   "cell_type": "code",
   "execution_count": 64,
   "metadata": {},
   "outputs": [],
   "source": [
    "visualize_flag(flag_df[\"flag\"].loc[\"Georgia\"])"
   ]
  },
  {
   "cell_type": "code",
   "execution_count": 57,
   "metadata": {},
   "outputs": [
    {
     "name": "stdout",
     "output_type": "stream",
     "text": [
      "Afghanistan\n",
      "Albania\n",
      "Algeria\n",
      "Andorra\n",
      "Angola\n",
      "Antigua And Barbuda\n",
      "Argentina\n",
      "Armenia\n",
      "Australia\n",
      "Austria\n",
      "Azerbaijan\n",
      "The Bahamas\n",
      "Bahrain\n",
      "Bangladesh\n",
      "Barbados\n",
      "Belarus\n",
      "Belgium\n",
      "Belize\n",
      "Benin\n",
      "Bhutan\n",
      "Bolivia\n",
      "Bosnia And Herzegovina\n",
      "Botswana\n",
      "Brazil\n",
      "Brunei\n",
      "Bulgaria\n",
      "Burkina Faso\n",
      "Burundi\n",
      "Cambodia\n",
      "Cameroon\n",
      "Canada\n",
      "Cape Verde\n",
      "The Central African Republic\n",
      "Chad\n",
      "Chile\n",
      "China\n",
      "Colombia\n",
      "The Comoros\n",
      "The Democratic Republic Of The Congo\n",
      "The Republic Of The Congo\n",
      "Costa Rica\n",
      "Croatia\n",
      "Cuba\n",
      "Cyprus\n",
      "The Czech Republic\n",
      "Denmark\n",
      "Djibouti\n",
      "Dominica\n",
      "The Dominican Republic\n",
      "East Timor\n",
      "Ecuador\n",
      "Egypt\n",
      "El Salvador\n",
      "Equatorial Guinea\n",
      "Eritrea\n",
      "Estonia\n",
      "Eswatini\n",
      "Ethiopia\n",
      "Fiji\n",
      "Finland\n",
      "France\n",
      "Gabon\n",
      "The Gambia\n",
      "Georgia (Country)\n",
      "Germany\n",
      "Ghana\n",
      "Greece\n",
      "Grenada\n",
      "Guatemala\n",
      "Guinea\n",
      "Guinea-Bissau\n",
      "Guyana\n",
      "Haiti\n",
      "Honduras\n",
      "Hungary\n",
      "Iceland\n",
      "India\n",
      "Indonesia\n",
      "Iran\n",
      "Iraq\n",
      "Ireland\n",
      "Israel\n",
      "Italy\n",
      "Ivory Coast\n",
      "Jamaica\n",
      "Japan\n",
      "Jordan\n",
      "Kazakhstan\n",
      "Kenya\n",
      "Kiribati\n",
      "North Korea\n",
      "South Korea\n",
      "Kuwait\n",
      "Kyrgyzstan\n",
      "Laos\n",
      "Latvia\n",
      "Lebanon\n",
      "Lesotho\n",
      "Liberia\n",
      "Libya\n",
      "Liechtenstein\n",
      "Lithuania\n",
      "Luxembourg\n",
      "Madagascar\n",
      "Malawi\n",
      "Malaysia\n",
      "The Maldives\n",
      "Mali\n",
      "Malta\n",
      "The Marshall Islands\n",
      "Mauritania\n",
      "Mauritius\n",
      "Mexico\n",
      "The Federated States Of Micronesia\n",
      "Moldova\n",
      "Monaco\n",
      "Mongolia\n",
      "Montenegro\n",
      "Morocco\n",
      "Mozambique\n",
      "Myanmar\n",
      "Namibia\n",
      "Nauru\n",
      "Nepal\n",
      "The Netherlands\n",
      "New Zealand\n",
      "Nicaragua\n",
      "Niger\n",
      "Nigeria\n",
      "North Macedonia\n",
      "Norway\n",
      "Oman\n",
      "Pakistan\n",
      "Palau\n",
      "Palestine\n",
      "Panama\n",
      "Papua New Guinea\n",
      "Paraguay\n",
      "Peru\n",
      "The Philippines\n",
      "Poland\n",
      "Portugal\n",
      "Qatar\n",
      "Romania\n",
      "Russia\n",
      "Rwanda\n",
      "Saint Kitts And Nevis\n",
      "Saint Lucia\n",
      "Saint Vincent And The Grenadines\n",
      "Samoa\n",
      "San Marino\n",
      "São Tomé And Príncipe\n",
      "Saudi Arabia\n",
      "Senegal\n",
      "Serbia\n",
      "Seychelles\n",
      "Sierra Leone\n",
      "Singapore\n",
      "Slovakia\n",
      "Slovenia\n",
      "Solomon Islands\n",
      "Somalia\n",
      "South Africa\n",
      "South Sudan\n",
      "Spain\n",
      "Sri Lanka\n",
      "Sudan\n",
      "Suriname\n",
      "Sweden\n",
      "Switzerland\n",
      "Syria\n",
      "Tajikistan\n",
      "Tanzania\n",
      "Thailand\n",
      "Togo\n",
      "Tonga\n",
      "Trinidad And Tobago\n",
      "Tunisia\n",
      "Turkey\n",
      "Turkmenistan\n",
      "Tuvalu\n",
      "Uganda\n",
      "Ukraine\n",
      "The United Arab Emirates\n",
      "The United Kingdom\n",
      "The United States\n",
      "Uruguay\n",
      "Uzbekistan\n",
      "Vanuatu\n",
      "Vatican City\n",
      "Venezuela\n",
      "Vietnam\n",
      "Yemen\n",
      "Zambia\n",
      "Zimbabwe\n",
      "Abkhazia\n",
      "The Republic Of Artsakh\n",
      "The Republic Of China\n",
      "The Cook Islands\n",
      "Kosovo\n",
      "Niue\n",
      "Northern Cyprus\n",
      "Western Sahara\n",
      "Somaliland\n",
      "Ossetia\n",
      "Transnistria\n"
     ]
    }
   ],
   "source": [
    "for index in flag_df.index:\n",
    "    print(index)"
   ]
  },
  {
   "cell_type": "code",
   "execution_count": 17,
   "metadata": {},
   "outputs": [
    {
     "name": "stdout",
     "output_type": "stream",
     "text": [
      "33\n"
     ]
    }
   ],
   "source": [
    "firsthash = imagehash.average_hash(Image.fromarray(process_img(url)))\n",
    "otherhash = imagehash.average_hash(Image.fromarray(flag_df[\"flag\"].loc[\"Paraguay\"]))\n",
    "\n",
    "print(firsthash - otherhash)"
   ]
  },
  {
   "cell_type": "code",
   "execution_count": 20,
   "metadata": {},
   "outputs": [],
   "source": [
    "visualize_flag(process_img(url))"
   ]
  },
  {
   "cell_type": "code",
   "execution_count": 49,
   "metadata": {},
   "outputs": [],
   "source": [
    "def test_with_cia(identify_flag_func):\n",
    "    html = requests.get(\"https://www.cia.gov/library/publications/the-world-factbook/docs/flagsoftheworld.html\").text\n",
    "    soup = BeautifulSoup(html, \"lxml\")\n",
    "    \n",
    "    num_correct = 0\n",
    "    num_total = 0\n",
    "    \n",
    "    for letter in ascii_lowercase:\n",
    "        test_flags = soup.find_all(\"li\", class_ = \"flag appendix-entry ln-\" + letter)\n",
    "        \n",
    "        for flag in test_flags:\n",
    "            \n",
    "            flag_country = flag.find(\"span\").get_text().title()\n",
    "            if \",\" in flag_country:\n",
    "                split = flag_country.split(\", \")\n",
    "                flag_country = split[1] + \" \" + split[0]\n",
    "                \n",
    "#             print(flag_country, flag_country in flag_df.index)\n",
    "            flag_img = flag.find(\"img\").get(\"src\").replace(\"..\", \"https://www.cia.gov/library/publications/the-world-factbook\")\n",
    "            if flag_country in flag_df.index or \"The \" + flag_country in flag_df.index:\n",
    "                num_total += 1\n",
    "                identified_flag = identify_flag_func(flag_img)\n",
    "                if identified_flag == flag_country or identified_flag == \"The \" + flag_country:\n",
    "                    num_correct+=1\n",
    "            else:\n",
    "                print(flag_country, \"is not in the dataframe\")\n",
    "    print(num_correct / num_total)\n",
    "    print(num_total)"
   ]
  },
  {
   "cell_type": "code",
   "execution_count": 68,
   "metadata": {},
   "outputs": [],
   "source": [
    "def test_two(identify_flag_func):\n",
    "    html = requests.get(\"https://flagpedia.net/index\").text\n",
    "    soup = BeautifulSoup(html, \"lxml\")\n",
    "    \n",
    "    num_correct = 0\n",
    "    num_total = 0\n",
    "\n",
    "    test_flags = soup.find(\"ul\", class_ = \"flag-grid\").find_all(\"li\")\n",
    "\n",
    "    for flag in test_flags:\n",
    "\n",
    "        flag_country = flag.find(\"span\").get_text().title()\n",
    "\n",
    "        if \",\" in flag_country:\n",
    "            split = flag_country.split(\", \")\n",
    "            flag_country = split[1] + \" \" + split[0]\n",
    "\n",
    "        flag_img = \"https://flagpedia.net/\" + flag.find(\"img\").get(\"src\")\n",
    "        if flag_country in flag_df.index or \"The \" + flag_country in flag_df.index:\n",
    "            num_total += 1\n",
    "            identified_flag = identify_flag_func(flag_img)\n",
    "            if identified_flag == flag_country or identified_flag == \"The \" + flag_country:\n",
    "                num_correct+=1\n",
    "        else:\n",
    "            print(flag_country, \"is not in the dataframe\")\n",
    "    print(num_correct / num_total)\n",
    "    print(num_total)"
   ]
  },
  {
   "cell_type": "code",
   "execution_count": 64,
   "metadata": {},
   "outputs": [
    {
     "name": "stdout",
     "output_type": "stream",
     "text": [
      "Akrotiri is not in the dataframe\n",
      "American Samoa is not in the dataframe\n",
      "Anguilla is not in the dataframe\n",
      "Aruba is not in the dataframe\n",
      "Ashmore And Cartier Islands is not in the dataframe\n",
      "Bermuda is not in the dataframe\n",
      "Bouvet Island is not in the dataframe\n",
      "British Indian Ocean Territory is not in the dataframe\n",
      "British Virgin Islands is not in the dataframe\n",
      "Burma is not in the dataframe\n",
      "Cabo Verde is not in the dataframe\n",
      "Cayman Islands is not in the dataframe\n",
      "Christmas Island is not in the dataframe\n",
      "Clipperton Island is not in the dataframe\n",
      "Cocos (Keeling) Islands is not in the dataframe\n",
      "Cook Islands is not in the dataframe\n",
      "Coral Sea Islands is not in the dataframe\n",
      "Cote D'Ivoire is not in the dataframe\n",
      "Curacao is not in the dataframe\n",
      "Czechia is not in the dataframe\n",
      "Dhekelia is not in the dataframe\n",
      "European Union is not in the dataframe\n",
      "Falkland Islands (Islas Malvinas) is not in the dataframe\n",
      "Faroe Islands is not in the dataframe\n",
      "French Polynesia is not in the dataframe\n",
      "French Southern And Antarctic Lands is not in the dataframe\n",
      "Gibraltar is not in the dataframe\n",
      "Greenland is not in the dataframe\n",
      "Guam is not in the dataframe\n",
      "Guernsey is not in the dataframe\n",
      "Heard Island And Mcdonald Islands is not in the dataframe\n",
      "Holy See (Vatican City) is not in the dataframe\n",
      "Hong Kong is not in the dataframe\n",
      "Isle Of Man is not in the dataframe\n",
      "Jan Mayen is not in the dataframe\n",
      "Jersey is not in the dataframe\n",
      "Kosovo is not in the dataframe\n",
      "Macau is not in the dataframe\n",
      "Montserrat is not in the dataframe\n",
      "Navassa Island is not in the dataframe\n",
      "New Caledonia is not in the dataframe\n",
      "Niue is not in the dataframe\n",
      "Norfolk Island is not in the dataframe\n",
      "Northern Mariana Islands is not in the dataframe\n",
      "Pitcairn Islands is not in the dataframe\n",
      "Puerto Rico is not in the dataframe\n",
      "Saint Barthelemy is not in the dataframe\n",
      "Ascension Saint Helena is not in the dataframe\n",
      "Saint Martin is not in the dataframe\n",
      "Saint Pierre And Miquelon is not in the dataframe\n",
      "Sao Tome And Principe is not in the dataframe\n",
      "Sint Maarten is not in the dataframe\n",
      "South Georgia And South Sandwich Islands is not in the dataframe\n",
      "Svalbard is not in the dataframe\n",
      "Taiwan is not in the dataframe\n",
      "Timor-Leste is not in the dataframe\n",
      "Tokelau is not in the dataframe\n",
      "Turks And Caicos Islands is not in the dataframe\n",
      "United States Pacific Island Wildlife Refuges is not in the dataframe\n",
      "Virgin Islands is not in the dataframe\n",
      "Wake Island is not in the dataframe\n",
      "Wallis And Futuna is not in the dataframe\n",
      "0.5401069518716578\n",
      "187\n"
     ]
    }
   ],
   "source": [
    "test_one(identify_flag_ssim)"
   ]
  },
  {
   "cell_type": "code",
   "execution_count": 69,
   "metadata": {},
   "outputs": [
    {
     "name": "stdout",
     "output_type": "stream",
     "text": [
      "Åland Islands is not in the dataframe\n",
      "American Samoa is not in the dataframe\n",
      "Anguilla is not in the dataframe\n",
      "Antarctica is not in the dataframe\n",
      "Aruba is not in the dataframe\n",
      "Bermuda is not in the dataframe\n",
      "Bouvet Island is not in the dataframe\n",
      "British Indian Ocean Territory is not in the dataframe\n",
      "Caribbean Netherlands is not in the dataframe\n",
      "Cayman Islands is not in the dataframe\n",
      "Christmas Island is not in the dataframe\n",
      "Cocos Islands is not in the dataframe\n",
      "Dr Congo is not in the dataframe\n",
      "Cook Islands is not in the dataframe\n",
      "Côte D'Ivoire is not in the dataframe\n",
      "Curaçao is not in the dataframe\n",
      "Czechia is not in the dataframe\n",
      "England is not in the dataframe\n",
      "Falkland Islands is not in the dataframe\n",
      "Faroe Islands is not in the dataframe\n",
      "French Guiana is not in the dataframe\n",
      "French Polynesia is not in the dataframe\n",
      "French Southern And Antarctic Lands is not in the dataframe\n",
      "Gibraltar is not in the dataframe\n",
      "Greenland is not in the dataframe\n",
      "Guadeloupe is not in the dataframe\n",
      "Guam is not in the dataframe\n",
      "Guernsey is not in the dataframe\n",
      "Heard Island And Mcdonald Islands is not in the dataframe\n",
      "Hong Kong is not in the dataframe\n",
      "Isle Of Man is not in the dataframe\n",
      "Jersey is not in the dataframe\n",
      "Kosovo is not in the dataframe\n",
      "Macau is not in the dataframe\n",
      "Martinique is not in the dataframe\n",
      "Mayotte is not in the dataframe\n",
      "Micronesia is not in the dataframe\n",
      "Montserrat is not in the dataframe\n",
      "New Caledonia is not in the dataframe\n",
      "Niue is not in the dataframe\n",
      "Norfolk Island is not in the dataframe\n",
      "Northern Ireland is not in the dataframe\n",
      "Northern Mariana Islands is not in the dataframe\n",
      "Pitcairn Islands is not in the dataframe\n",
      "Puerto Rico is not in the dataframe\n",
      "Réunion is not in the dataframe\n",
      "Saint Barthélemy is not in the dataframe\n",
      "Ascension And Tristan Da Cunha Saint Helena is not in the dataframe\n",
      "Saint Martin is not in the dataframe\n",
      "Saint Pierre And Miquelon is not in the dataframe\n",
      "Scotland is not in the dataframe\n",
      "Sint Maarten is not in the dataframe\n",
      "South Georgia is not in the dataframe\n",
      "Svalbard And Jan Mayen is not in the dataframe\n",
      "Taiwan is not in the dataframe\n",
      "Timor-Leste is not in the dataframe\n",
      "Tokelau is not in the dataframe\n",
      "Turks And Caicos Islands is not in the dataframe\n",
      "United States Minor Outlying Islands is not in the dataframe\n",
      "British Virgin Islands is not in the dataframe\n",
      "United States Virgin Islands is not in the dataframe\n",
      "Wales is not in the dataframe\n",
      "Wallis And Futuna is not in the dataframe\n",
      "Western Sahara is not in the dataframe\n",
      "0.9894736842105263\n",
      "190\n"
     ]
    }
   ],
   "source": [
    "test_two(identify_flag_mse)"
   ]
  },
  {
   "cell_type": "code",
   "execution_count": 59,
   "metadata": {},
   "outputs": [
    {
     "name": "stdout",
     "output_type": "stream",
     "text": [
      "163.0 188.0\n"
     ]
    }
   ],
   "source": [
    "mse_test1 = 0.8716577540106952 * 187\n",
    "mse_test2 = 0.9894736842105263 * 190\n",
    "print(mse_test1, mse_test2)"
   ]
  },
  {
   "cell_type": "code",
   "execution_count": 65,
   "metadata": {},
   "outputs": [
    {
     "name": "stdout",
     "output_type": "stream",
     "text": [
      "101.00000000000001 187.0\n"
     ]
    }
   ],
   "source": [
    "ssim_test1 = 0.5401069518716578 * 187\n",
    "ssim_test2 = 0.9842105263157894 * 190\n",
    "print(ssim_test1, ssim_test2)"
   ]
  },
  {
   "cell_type": "code",
   "execution_count": 67,
   "metadata": {},
   "outputs": [
    {
     "name": "stdout",
     "output_type": "stream",
     "text": [
      "87.0 125.00000000000001\n"
     ]
    }
   ],
   "source": [
    "hash_test1 = 0.46524064171123 * 187\n",
    "hash_test2 = 0.6578947368421053 * 190\n",
    "print(hash_test1, hash_test2)"
   ]
  },
  {
   "cell_type": "code",
   "execution_count": null,
   "metadata": {},
   "outputs": [],
   "source": []
  }
 ],
 "metadata": {
  "kernelspec": {
   "display_name": "Python 3",
   "language": "python",
   "name": "python3"
  },
  "language_info": {
   "codemirror_mode": {
    "name": "ipython",
    "version": 3
   },
   "file_extension": ".py",
   "mimetype": "text/x-python",
   "name": "python",
   "nbconvert_exporter": "python",
   "pygments_lexer": "ipython3",
   "version": "3.7.4"
  }
 },
 "nbformat": 4,
 "nbformat_minor": 2
}
