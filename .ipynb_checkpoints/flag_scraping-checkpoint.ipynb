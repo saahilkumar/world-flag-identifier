{
 "cells": [
  {
   "cell_type": "code",
   "execution_count": 14,
   "metadata": {},
   "outputs": [],
   "source": [
    "from bs4 import BeautifulSoup\n",
    "import pandas as pd\n",
    "from PIL import Image\n",
    "import requests\n",
    "from io import BytesIO\n",
    "import numpy as np"
   ]
  },
  {
   "cell_type": "code",
   "execution_count": 15,
   "metadata": {},
   "outputs": [],
   "source": [
    "def process_img(url):\n",
    "    # getting the image from the url\n",
    "    response = requests.get(url)\n",
    "    image_bytes = BytesIO(response.content)\n",
    "    img = Image.open(image_bytes)\n",
    "    \n",
    "    # converting it to RGB\n",
    "    img = img.convert(\"RGB\")\n",
    "    \n",
    "    # resizing to 180 x 90\n",
    "    img = img.resize((180, 90))\n",
    "    \n",
    "    # converting an array of pixels\n",
    "    img = np.array(img)\n",
    "    return img"
   ]
  },
  {
   "cell_type": "code",
   "execution_count": 16,
   "metadata": {},
   "outputs": [],
   "source": [
    "def get_flags():\n",
    "    html = requests.get(\"https://en.wikipedia.org/wiki/Gallery_of_sovereign_state_flags\").text\n",
    "    soup = BeautifulSoup(html, \"lxml\")\n",
    "    \n",
    "    flags = soup.find_all(\"li\", class_ = \"gallerybox\")\n",
    "    flag_df = pd.DataFrame(columns = [\"country\", \"flag\"])\n",
    "    \n",
    "    i = 1\n",
    "    \n",
    "    for flag in flags:\n",
    "        # getting the url of the flag and converting to a 180 x 90 RGB image (as a numpy array)\n",
    "        img_url = \"https:\" + flag.find(\"img\").get(\"src\")\n",
    "        img = process_img(img_url)\n",
    "        \n",
    "        # getting the name of the country\n",
    "        country = flag.find(\"div\", class_ = \"gallerytext\").find(\"a\").get(\"title\")\n",
    "        country = country.split(\"Flag of \")[1].title()\n",
    "        \n",
    "        flag_df = flag_df.append({\"country\": country, \"flag\": img}, ignore_index = True)\n",
    "        \n",
    "        if i % 25 == 0:\n",
    "            print(\"finished\", i, \"flags\")\n",
    "        i += 1\n",
    "        \n",
    "        \n",
    "    print(\"Done!\")\n",
    "    flag_df = flag_df.set_index(\"country\")\n",
    "    return flag_df"
   ]
  },
  {
   "cell_type": "code",
   "execution_count": 17,
   "metadata": {},
   "outputs": [
    {
     "name": "stdout",
     "output_type": "stream",
     "text": [
      "finished 25 flags\n",
      "finished 50 flags\n",
      "finished 75 flags\n",
      "finished 100 flags\n",
      "finished 125 flags\n",
      "finished 150 flags\n",
      "finished 175 flags\n",
      "finished 200 flags\n",
      "Done!\n"
     ]
    }
   ],
   "source": [
    "flag_df = get_flags()"
   ]
  },
  {
   "cell_type": "code",
   "execution_count": 18,
   "metadata": {},
   "outputs": [
    {
     "data": {
      "text/html": [
       "<div>\n",
       "<style scoped>\n",
       "    .dataframe tbody tr th:only-of-type {\n",
       "        vertical-align: middle;\n",
       "    }\n",
       "\n",
       "    .dataframe tbody tr th {\n",
       "        vertical-align: top;\n",
       "    }\n",
       "\n",
       "    .dataframe thead th {\n",
       "        text-align: right;\n",
       "    }\n",
       "</style>\n",
       "<table border=\"1\" class=\"dataframe\">\n",
       "  <thead>\n",
       "    <tr style=\"text-align: right;\">\n",
       "      <th></th>\n",
       "      <th>flag</th>\n",
       "    </tr>\n",
       "    <tr>\n",
       "      <th>country</th>\n",
       "      <th></th>\n",
       "    </tr>\n",
       "  </thead>\n",
       "  <tbody>\n",
       "    <tr>\n",
       "      <td>Afghanistan</td>\n",
       "      <td>[[[0, 0, 0], [0, 0, 0], [0, 0, 0], [0, 0, 0], ...</td>\n",
       "    </tr>\n",
       "    <tr>\n",
       "      <td>Albania</td>\n",
       "      <td>[[[255, 0, 0], [255, 0, 0], [255, 0, 0], [255,...</td>\n",
       "    </tr>\n",
       "    <tr>\n",
       "      <td>Algeria</td>\n",
       "      <td>[[[0, 98, 51], [0, 98, 51], [0, 98, 51], [0, 9...</td>\n",
       "    </tr>\n",
       "    <tr>\n",
       "      <td>Andorra</td>\n",
       "      <td>[[[0, 24, 168], [0, 24, 168], [0, 24, 168], [0...</td>\n",
       "    </tr>\n",
       "    <tr>\n",
       "      <td>Angola</td>\n",
       "      <td>[[[204, 9, 47], [204, 9, 47], [204, 9, 47], [2...</td>\n",
       "    </tr>\n",
       "  </tbody>\n",
       "</table>\n",
       "</div>"
      ],
      "text/plain": [
       "                                                          flag\n",
       "country                                                       \n",
       "Afghanistan  [[[0, 0, 0], [0, 0, 0], [0, 0, 0], [0, 0, 0], ...\n",
       "Albania      [[[255, 0, 0], [255, 0, 0], [255, 0, 0], [255,...\n",
       "Algeria      [[[0, 98, 51], [0, 98, 51], [0, 98, 51], [0, 9...\n",
       "Andorra      [[[0, 24, 168], [0, 24, 168], [0, 24, 168], [0...\n",
       "Angola       [[[204, 9, 47], [204, 9, 47], [204, 9, 47], [2..."
      ]
     },
     "execution_count": 18,
     "metadata": {},
     "output_type": "execute_result"
    }
   ],
   "source": [
    "flag_df.head()"
   ]
  },
  {
   "cell_type": "code",
   "execution_count": 19,
   "metadata": {},
   "outputs": [],
   "source": [
    "flag_df.to_csv(\"flag_df.csv\")"
   ]
  }
 ],
 "metadata": {
  "kernelspec": {
   "display_name": "Python 3",
   "language": "python",
   "name": "python3"
  },
  "language_info": {
   "codemirror_mode": {
    "name": "ipython",
    "version": 3
   },
   "file_extension": ".py",
   "mimetype": "text/x-python",
   "name": "python",
   "nbconvert_exporter": "python",
   "pygments_lexer": "ipython3",
   "version": "3.7.4"
  }
 },
 "nbformat": 4,
 "nbformat_minor": 2
}
